{
 "cells": [
  {
   "cell_type": "markdown",
   "id": "f1fabc31-154a-4ff3-8e7e-6b26520b11b9",
   "metadata": {},
   "source": [
    "## NumPy 라이브러리\n",
    "- Numerical Python 약자\n",
    "- Python에서 수치계산을 위한 핵심 라이브러리\n",
    "- ndarray(N-dimensional array)클래스 지원"
   ]
  },
  {
   "cell_type": "code",
   "execution_count": 2,
   "id": "49567ad7-80b8-4cdf-8b95-675ac108822e",
   "metadata": {},
   "outputs": [],
   "source": [
    "import numpy as np"
   ]
  },
  {
   "cell_type": "markdown",
   "id": "db968d24-b4c4-4d58-8e9a-c92e92e27b8c",
   "metadata": {},
   "source": [
    "### ndarray(N-dimensional array)\n",
    "1. 다양한 수학함수 지원\n",
    "2. 빠른 연산속도\n",
    "3. 브로드 캐스팅(차원을 동일시 하는 기능)\n",
    "4. 다차원배열 지원\n",
    "---\n",
    "- 동일한 자료형을 가지는 값들이 배열 형태로 존재해야함(숫자는 숫자끼리, 자료형이 섞여 있으면 안됨)\n",
    "- 각 값들 index가 부여 → 순서가 있음 → 인덱싱/슬라이싱 가능"
   ]
  },
  {
   "cell_type": "markdown",
   "id": "e359c510-0cf6-4a9d-b23c-f0c631b71ce4",
   "metadata": {},
   "source": [
    "### 1. ndarray 생성하기\n",
    "- np.array(리스트 or 튜플)"
   ]
  },
  {
   "cell_type": "code",
   "execution_count": 2,
   "id": "2b83252c-aab6-405a-a5fd-43de7b3eca2c",
   "metadata": {},
   "outputs": [
    {
     "data": {
      "text/plain": [
       "numpy.ndarray"
      ]
     },
     "execution_count": 2,
     "metadata": {},
     "output_type": "execute_result"
    }
   ],
   "source": [
    "# list 생성\n",
    "list1=[1,2,3,4,5]\n",
    "list1\n",
    "\n",
    "arr1=np.array(list1)\n",
    "type(arr1)"
   ]
  },
  {
   "cell_type": "code",
   "execution_count": 3,
   "id": "d0a136f2-5eb6-44c0-b960-b0f10ada644f",
   "metadata": {},
   "outputs": [
    {
     "data": {
      "text/plain": [
       "array([ 6,  7,  8,  9, 10])"
      ]
     },
     "execution_count": 3,
     "metadata": {},
     "output_type": "execute_result"
    }
   ],
   "source": [
    "# 직접 array화 가능!\n",
    "np.array([6,7,8,9,10])"
   ]
  },
  {
   "cell_type": "code",
   "execution_count": 4,
   "id": "8cd49336-87be-44e6-9f70-a8f8ac810e3e",
   "metadata": {},
   "outputs": [
    {
     "data": {
      "text/plain": [
       "array([[1, 2, 3],\n",
       "       [4, 5, 6]])"
      ]
     },
     "execution_count": 4,
     "metadata": {},
     "output_type": "execute_result"
    }
   ],
   "source": [
    "# 2ckdnjs ndarray생성\n",
    "arr2=np.array([[1,2,3],\n",
    "              [4,5,6]])\n",
    "arr2"
   ]
  },
  {
   "cell_type": "code",
   "execution_count": 5,
   "id": "a623eda4-fb11-416e-a043-88ad4501d093",
   "metadata": {},
   "outputs": [
    {
     "data": {
      "text/plain": [
       "[[1, 2, 3], [4, 5, 6]]"
      ]
     },
     "execution_count": 5,
     "metadata": {},
     "output_type": "execute_result"
    }
   ],
   "source": [
    "list2=[[1,2,3],[4,5,6]]\n",
    "list2\n",
    "\n",
    "# 2차원 형태의 리스트와 ndarray 출력문은 차이가 있음\n",
    "# ndarray는 다차원 배열 인식"
   ]
  },
  {
   "cell_type": "markdown",
   "id": "53edf73c-27cb-47e6-8eb0-534ff88c9060",
   "metadata": {},
   "source": [
    "### 2. ndarray 확인하기(\"속성\" 또는 \"키워드\", 함수 아님!)"
   ]
  },
  {
   "cell_type": "code",
   "execution_count": 6,
   "id": "ab3faa00-97ee-43e1-9b95-d51c2209ba5b",
   "metadata": {},
   "outputs": [
    {
     "name": "stdout",
     "output_type": "stream",
     "text": [
      "1\n",
      "2\n"
     ]
    }
   ],
   "source": [
    "# ndarray 차원 확인하기\n",
    "\n",
    "print(arr1.ndim)\n",
    "print(arr2.ndim)"
   ]
  },
  {
   "cell_type": "code",
   "execution_count": 7,
   "id": "f29c7ea5-7367-4c30-8803-3e565faee10d",
   "metadata": {},
   "outputs": [
    {
     "name": "stdout",
     "output_type": "stream",
     "text": [
      "(5,)\n",
      "(2, 3)\n"
     ]
    }
   ],
   "source": [
    "#ndarray 모양(크기) 확인하기\n",
    "print(arr1.shape) # 길이\n",
    "print(arr2.shape) # 행,열"
   ]
  },
  {
   "cell_type": "code",
   "execution_count": 8,
   "id": "8ce7789a-8a41-4f41-b9ea-f6cbaf7abe5f",
   "metadata": {},
   "outputs": [
    {
     "name": "stdout",
     "output_type": "stream",
     "text": [
      "5\n",
      "5\n",
      "\n",
      "2\n",
      "6\n"
     ]
    }
   ],
   "source": [
    "# ndarray 요소 개수 확인\n",
    "\n",
    "# len() : 내장함수, 배열의 첫 번째 차원의 길이 반환\n",
    "# size : array의 모든 요소의 총 수 반환\n",
    "print(len(arr1))\n",
    "print(arr1.size)\n",
    "print()\n",
    "print(len(arr2))\n",
    "print(arr2.size)"
   ]
  },
  {
   "cell_type": "code",
   "execution_count": 9,
   "id": "53820e5f-5eef-4142-8c51-67910f1afd38",
   "metadata": {},
   "outputs": [
    {
     "name": "stdout",
     "output_type": "stream",
     "text": [
      "int32\n",
      "int32\n"
     ]
    }
   ],
   "source": [
    "# 배열 요소의 타입 확인\n",
    "print(arr1.dtype)\n",
    "print(arr2.dtype)\n",
    "# int32 -> 데이터 타입,크기"
   ]
  },
  {
   "attachments": {
    "image.png": {
     "image/png": "[encoded data removed]"
    }
   },
   "cell_type": "markdown",
   "id": "901c0dbf-3079-4feb-8e74-37f09f751cf2",
   "metadata": {},
   "source": [
    "#### 실습\n",
    "![image.png](attachment:image.png)"
   ]
  },
  {
   "cell_type": "code",
   "execution_count": 33,
   "id": "ad367418-9d4e-4bb4-9e1e-9337e1712bd1",
   "metadata": {},
   "outputs": [
    {
     "name": "stdout",
     "output_type": "stream",
     "text": [
      "[[1 2]\n",
      " [3 4]]\n",
      "[[5 6]\n",
      " [7 8]]\n",
      "배열의 모양(크기):(2, 2, 2)\n",
      "배열의 차원 : 3\n",
      "배열의 요소개수 : 8\n"
     ]
    }
   ],
   "source": [
    "array1=np.array([[1, 2],\n",
    "         [3, 4]])\n",
    "array2=np.array([[5, 6],\n",
    "         [7, 8]])\n",
    "array3=np.array([array1,array2])\n",
    "\n",
    "print(array1)\n",
    "print(array2)\n",
    "print(f\"배열의 모양(크기):{len(array1),len(array2),len(array3)}\")\n",
    "print(f\"배열의 차원 : {array3.ndim}\")\n",
    "print(f\"배열의 요소개수 : {array3.size}\")"
   ]
  },
  {
   "cell_type": "code",
   "execution_count": 41,
   "id": "0dad16e9-2e04-4f30-8f77-d56a0d634428",
   "metadata": {},
   "outputs": [
    {
     "name": "stdout",
     "output_type": "stream",
     "text": [
      "[[[1 2]\n",
      "  [3 4]]\n",
      "\n",
      " [[5 6]\n",
      "  [7 8]]]\n",
      "배열의 모양(크기):(2, 2, 2)\n",
      "배열의 차원 : 3\n",
      "배열의 요소개수 : 8\n"
     ]
    }
   ],
   "source": [
    "# 선생님 코드\n",
    "arr3=np.array([[[1,2],\n",
    "               [3,4]],\n",
    "            [[5,6],\n",
    "             [7,8]]])\n",
    "print(arr3)\n",
    "print(f\"배열의 모양(크기):{arr3.shape}\")\n",
    "print(f\"배열의 차원 : {arr3.ndim}\")\n",
    "print(f\"배열의 요소개수 : {arr3.size}\")"
   ]
  },
  {
   "cell_type": "markdown",
   "id": "a478211d-d2be-4e82-a7fe-9853c39d4d39",
   "metadata": {},
   "source": [
    "#### 2.1 dtype 및 shape 변경"
   ]
  },
  {
   "cell_type": "code",
   "execution_count": 5,
   "id": "d634e2d1-68e5-4f5b-aa94-f043e265ce05",
   "metadata": {},
   "outputs": [
    {
     "name": "stdout",
     "output_type": "stream",
     "text": [
      "[[1.7 4.2 3.6]\n",
      " [4.1 2.9 5.8]]\n",
      "float64\n",
      "\n",
      "[[1 4 3]\n",
      " [4 2 5]]\n",
      "int64\n"
     ]
    }
   ],
   "source": [
    "# 데이터 타입을 직접 지정해 배열 생성\n",
    "list3 = [[1.7,4.2,3.6], [4.1,2.9,5.8]]\n",
    "\n",
    "temp1 = np.array(list3)\n",
    "temp2 = np.array(list3, dtype=np.int64)\n",
    "\n",
    "print(temp1)\n",
    "print(temp1.dtype)\n",
    "print()\n",
    "print(temp2)\n",
    "print(temp2.dtype)\n"
   ]
  },
  {
   "cell_type": "code",
   "execution_count": 8,
   "id": "63a01371",
   "metadata": {},
   "outputs": [
    {
     "data": {
      "text/plain": [
       "dtype('float64')"
      ]
     },
     "execution_count": 8,
     "metadata": {},
     "output_type": "execute_result"
    }
   ],
   "source": [
    "# 만들어진 ndarray의 요소 자료형 변경!\n",
    "temp2=temp2.astype(np.float64) # 다시 담아줘야함\n",
    "temp2.dtype"
   ]
  },
  {
   "cell_type": "code",
   "execution_count": 12,
   "id": "e9ef738c",
   "metadata": {},
   "outputs": [
    {
     "data": {
      "text/plain": [
       "array([[1., 4., 3.],\n",
       "       [4., 2., 5.]])"
      ]
     },
     "execution_count": 12,
     "metadata": {},
     "output_type": "execute_result"
    }
   ],
   "source": [
    "temp2"
   ]
  },
  {
   "cell_type": "code",
   "execution_count": 14,
   "id": "57c7e0d7",
   "metadata": {},
   "outputs": [
    {
     "data": {
      "text/plain": [
       "array([[1., 4.],\n",
       "       [3., 4.],\n",
       "       [2., 5.]])"
      ]
     },
     "execution_count": 14,
     "metadata": {},
     "output_type": "execute_result"
    }
   ],
   "source": [
    "# 모양(크기) 바꿔주기\n",
    "# 2차원 경우 행과 열의 값이 맞게 떨어져야함\n",
    "temp2=temp2.reshape(3,2) # 다시 대입\n",
    "temp2"
   ]
  },
  {
   "cell_type": "markdown",
   "id": "2154069f",
   "metadata": {},
   "source": [
    "### 3. 특정한 값으로 ndarray 생성"
   ]
  },
  {
   "cell_type": "code",
   "execution_count": 15,
   "id": "5a22478a",
   "metadata": {},
   "outputs": [
    {
     "data": {
      "text/plain": [
       "array([[0., 0., 0., 0.],\n",
       "       [0., 0., 0., 0.],\n",
       "       [0., 0., 0., 0.]])"
      ]
     },
     "execution_count": 15,
     "metadata": {},
     "output_type": "execute_result"
    }
   ],
   "source": [
    "# 모든 값 0으로 초기화\n",
    "# np.zeros((행,열)) -> 2차원 이상의 모양인 경우 튜플로 감싸줘야함\n",
    "\n",
    "np.zeros((3,4))"
   ]
  },
  {
   "cell_type": "code",
   "execution_count": 16,
   "id": "eca55f52",
   "metadata": {},
   "outputs": [
    {
     "data": {
      "text/plain": [
       "array([[1., 1., 1., 1., 1.],\n",
       "       [1., 1., 1., 1., 1.],\n",
       "       [1., 1., 1., 1., 1.],\n",
       "       [1., 1., 1., 1., 1.],\n",
       "       [1., 1., 1., 1., 1.]])"
      ]
     },
     "execution_count": 16,
     "metadata": {},
     "output_type": "execute_result"
    }
   ],
   "source": [
    "# 모든 값 1로 초기화\n",
    "# np.ones((행,열)) -> 2차원 이상 모양인 경우 튜플로 감싸줘야함\n",
    "np.ones((5,5))"
   ]
  },
  {
   "cell_type": "code",
   "execution_count": 19,
   "id": "faf3b74f",
   "metadata": {},
   "outputs": [
    {
     "data": {
      "text/plain": [
       "array([[10, 10, 10, 10, 10],\n",
       "       [10, 10, 10, 10, 10],\n",
       "       [10, 10, 10, 10, 10],\n",
       "       [10, 10, 10, 10, 10],\n",
       "       [10, 10, 10, 10, 10]])"
      ]
     },
     "execution_count": 19,
     "metadata": {},
     "output_type": "execute_result"
    }
   ],
   "source": [
    "# 원하는 값으로 초기화(하나의 값만 적용)\n",
    "# np.full((행,열), 원하는 값)\n",
    "arr_full=np.full((5,5),10)\n",
    "arr_full"
   ]
  },
  {
   "cell_type": "code",
   "execution_count": 26,
   "id": "253bde3e",
   "metadata": {},
   "outputs": [
    {
     "data": {
      "text/plain": [
       "array([[6, 1],\n",
       "       [6, 3],\n",
       "       [2, 2]])"
      ]
     },
     "execution_count": 26,
     "metadata": {},
     "output_type": "execute_result"
    }
   ],
   "source": [
    "# 랜덤값으로 배열 생성\n",
    "# np.random.randint(시작값, 끝값, size(행,열))\n",
    "arr_randint=np.random.randint(1,10,size=(3,2))\n",
    "arr_randint"
   ]
  },
  {
   "attachments": {
    "image.png": {
     "image/png": "[encoded data removed]"
    }
   },
   "cell_type": "markdown",
   "id": "efe8ba6b",
   "metadata": {},
   "source": [
    "![image.png](attachment:image.png)"
   ]
  },
  {
   "cell_type": "code",
   "execution_count": 33,
   "id": "bd8827ad",
   "metadata": {},
   "outputs": [
    {
     "name": "stdout",
     "output_type": "stream",
     "text": [
      "[ 1  2  3  4  5  6  7  8  9 10 11 12 13 14 15 16 17 18 19 20 21 22 23 24\n",
      " 25 26 27 28 29 30 31 32 33 34 35 36 37 38 39 40 41 42 43 44 45 46 47 48\n",
      " 49 50]\n"
     ]
    }
   ],
   "source": [
    "# 1부터 50이 담긴 1차원 array 생성 ->리스트 활용\n",
    "list_num=[]\n",
    "for i in range(1,51):\n",
    "    list_num.append(i)\n",
    "\n",
    "print(np.array(list_num))"
   ]
  },
  {
   "cell_type": "code",
   "execution_count": 32,
   "id": "7469ae9f",
   "metadata": {},
   "outputs": [
    {
     "name": "stdout",
     "output_type": "stream",
     "text": [
      "[ 1  2  3  4  5  6  7  8  9 10 11 12 13 14 15 16 17 18 19 20 21 22 23 24\n",
      " 25 26 27 28 29 30 31 32 33 34 35 36 37 38 39 40 41 42 43 44 45 46 47 48\n",
      " 49 50]\n"
     ]
    }
   ],
   "source": [
    "# gpt 코드\n",
    "arr_num = np.arange(1, 51)\n",
    "print(arr_num)"
   ]
  }
 ],
 "metadata": {
  "kernelspec": {
   "display_name": "Python 3 (ipykernel)",
   "language": "python",
   "name": "python3"
  },
  "language_info": {
   "codemirror_mode": {
    "name": "ipython",
    "version": 3
   },
   "file_extension": ".py",
   "mimetype": "text/x-python",
   "name": "python",
   "nbconvert_exporter": "python",
   "pygments_lexer": "ipython3",
   "version": "3.11.7"
  }
 },
 "nbformat": 4,
 "nbformat_minor": 5
}

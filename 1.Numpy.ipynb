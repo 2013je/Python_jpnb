{
 "cells": [
  {
   "cell_type": "markdown",
   "id": "f1fabc31-154a-4ff3-8e7e-6b26520b11b9",
   "metadata": {},
   "source": [
    "## NumPy 라이브러리\n",
    "- Numerical Python 약자\n",
    "- Python에서 수치계산을 위한 핵심 라이브러리\n",
    "- ndarray(N-dimensional array)클래스 지원"
   ]
  },
  {
   "cell_type": "code",
   "execution_count": 1,
   "id": "49567ad7-80b8-4cdf-8b95-675ac108822e",
   "metadata": {},
   "outputs": [],
   "source": [
    "import numpy as np"
   ]
  },
  {
   "cell_type": "markdown",
   "id": "db968d24-b4c4-4d58-8e9a-c92e92e27b8c",
   "metadata": {},
   "source": [
    "### ndarray(N-dimensional array)\n",
    "1. 다양한 수학함수 지원\n",
    "2. 빠른 연산속도\n",
    "3. 브로드 캐스팅(차원을 동일시 하는 기능)\n",
    "4. 다차원배열 지원\n",
    "---\n",
    "- 동일한 자료형을 가지는 값들이 배열 형태로 존재해야함(숫자는 숫자끼리, 자료형이 섞여 있으면 안됨)\n",
    "- 각 값들 index가 부여 → 순서가 있음 → 인덱싱/슬라이싱 가능"
   ]
  },
  {
   "cell_type": "markdown",
   "id": "e359c510-0cf6-4a9d-b23c-f0c631b71ce4",
   "metadata": {},
   "source": [
    "### 1. ndarray 생성하기\n",
    "- np.array(리스트 or 튜플)"
   ]
  },
  {
   "cell_type": "code",
   "execution_count": 2,
   "id": "2b83252c-aab6-405a-a5fd-43de7b3eca2c",
   "metadata": {},
   "outputs": [
    {
     "data": {
      "text/plain": [
       "numpy.ndarray"
      ]
     },
     "execution_count": 2,
     "metadata": {},
     "output_type": "execute_result"
    }
   ],
   "source": [
    "# list 생성\n",
    "list1=[1,2,3,4,5]\n",
    "list1\n",
    "\n",
    "arr1=np.array(list1)\n",
    "type(arr1)"
   ]
  },
  {
   "cell_type": "code",
   "execution_count": 3,
   "id": "d0a136f2-5eb6-44c0-b960-b0f10ada644f",
   "metadata": {},
   "outputs": [
    {
     "data": {
      "text/plain": [
       "array([ 6,  7,  8,  9, 10])"
      ]
     },
     "execution_count": 3,
     "metadata": {},
     "output_type": "execute_result"
    }
   ],
   "source": [
    "# 직접 array화 가능!\n",
    "np.array([6,7,8,9,10])"
   ]
  },
  {
   "cell_type": "code",
   "execution_count": 4,
   "id": "8cd49336-87be-44e6-9f70-a8f8ac810e3e",
   "metadata": {},
   "outputs": [
    {
     "data": {
      "text/plain": [
       "array([[1, 2, 3],\n",
       "       [4, 5, 6]])"
      ]
     },
     "execution_count": 4,
     "metadata": {},
     "output_type": "execute_result"
    }
   ],
   "source": [
    "# 2ckdnjs ndarray생성\n",
    "arr2=np.array([[1,2,3],\n",
    "              [4,5,6]])\n",
    "arr2"
   ]
  },
  {
   "cell_type": "code",
   "execution_count": 5,
   "id": "a623eda4-fb11-416e-a043-88ad4501d093",
   "metadata": {},
   "outputs": [
    {
     "data": {
      "text/plain": [
       "[[1, 2, 3], [4, 5, 6]]"
      ]
     },
     "execution_count": 5,
     "metadata": {},
     "output_type": "execute_result"
    }
   ],
   "source": [
    "list2=[[1,2,3],[4,5,6]]\n",
    "list2\n",
    "\n",
    "# 2차원 형태의 리스트와 ndarray 출력문은 차이가 있음\n",
    "# ndarray는 다차원 배열 인식"
   ]
  },
  {
   "cell_type": "markdown",
   "id": "53edf73c-27cb-47e6-8eb0-534ff88c9060",
   "metadata": {},
   "source": [
    "### 2. ndarray 확인하기(\"속성\" 또는 \"키워드\", 함수 아님!)"
   ]
  },
  {
   "cell_type": "code",
   "execution_count": 6,
   "id": "ab3faa00-97ee-43e1-9b95-d51c2209ba5b",
   "metadata": {},
   "outputs": [
    {
     "name": "stdout",
     "output_type": "stream",
     "text": [
      "1\n",
      "2\n"
     ]
    }
   ],
   "source": [
    "# ndarray 차원 확인하기\n",
    "\n",
    "print(arr1.ndim)\n",
    "print(arr2.ndim)"
   ]
  },
  {
   "cell_type": "code",
   "execution_count": 7,
   "id": "f29c7ea5-7367-4c30-8803-3e565faee10d",
   "metadata": {},
   "outputs": [
    {
     "name": "stdout",
     "output_type": "stream",
     "text": [
      "(5,)\n",
      "(2, 3)\n"
     ]
    }
   ],
   "source": [
    "#ndarray 모양(크기) 확인하기\n",
    "print(arr1.shape) # 길이\n",
    "print(arr2.shape) # 행,열"
   ]
  },
  {
   "cell_type": "code",
   "execution_count": 8,
   "id": "8ce7789a-8a41-4f41-b9ea-f6cbaf7abe5f",
   "metadata": {},
   "outputs": [
    {
     "name": "stdout",
     "output_type": "stream",
     "text": [
      "5\n",
      "5\n",
      "\n",
      "2\n",
      "6\n"
     ]
    }
   ],
   "source": [
    "# ndarray 요소 개수 확인\n",
    "\n",
    "# len() : 내장함수, 배열의 첫 번째 차원의 길이 반환\n",
    "# size : array의 모든 요소의 총 수 반환\n",
    "print(len(arr1))\n",
    "print(arr1.size)\n",
    "print()\n",
    "print(len(arr2))\n",
    "print(arr2.size)"
   ]
  },
  {
   "cell_type": "code",
   "execution_count": 9,
   "id": "53820e5f-5eef-4142-8c51-67910f1afd38",
   "metadata": {},
   "outputs": [
    {
     "name": "stdout",
     "output_type": "stream",
     "text": [
      "int32\n",
      "int32\n"
     ]
    }
   ],
   "source": [
    "# 배열 요소의 타입 확인\n",
    "print(arr1.dtype)\n",
    "print(arr2.dtype)\n",
    "# int32 -> 데이터 타입,크기"
   ]
  },
  {
   "attachments": {
    "image.png": {
     "image/png": "[encoded data removed]"
    }
   },
   "cell_type": "markdown",
   "id": "901c0dbf-3079-4feb-8e74-37f09f751cf2",
   "metadata": {},
   "source": [
    "#### 실습\n",
    "![image.png](attachment:image.png)"
   ]
  },
  {
   "cell_type": "code",
   "execution_count": 10,
   "id": "ad367418-9d4e-4bb4-9e1e-9337e1712bd1",
   "metadata": {},
   "outputs": [
    {
     "name": "stdout",
     "output_type": "stream",
     "text": [
      "[[1 2]\n",
      " [3 4]]\n",
      "[[5 6]\n",
      " [7 8]]\n",
      "배열의 모양(크기):(2, 2, 2)\n",
      "배열의 차원 : 3\n",
      "배열의 요소개수 : 8\n"
     ]
    }
   ],
   "source": [
    "array1=np.array([[1, 2],\n",
    "         [3, 4]])\n",
    "array2=np.array([[5, 6],\n",
    "         [7, 8]])\n",
    "array3=np.array([array1,array2])\n",
    "\n",
    "print(array1)\n",
    "print(array2)\n",
    "print(f\"배열의 모양(크기):{len(array1),len(array2),len(array3)}\")\n",
    "print(f\"배열의 차원 : {array3.ndim}\")\n",
    "print(f\"배열의 요소개수 : {array3.size}\")"
   ]
  },
  {
   "cell_type": "code",
   "execution_count": 11,
   "id": "0dad16e9-2e04-4f30-8f77-d56a0d634428",
   "metadata": {},
   "outputs": [
    {
     "name": "stdout",
     "output_type": "stream",
     "text": [
      "[[[1 2]\n",
      "  [3 4]]\n",
      "\n",
      " [[5 6]\n",
      "  [7 8]]]\n",
      "배열의 모양(크기):(2, 2, 2)\n",
      "배열의 차원 : 3\n",
      "배열의 요소개수 : 8\n"
     ]
    }
   ],
   "source": [
    "# 선생님 코드\n",
    "arr3=np.array([[[1,2],\n",
    "               [3,4]],\n",
    "            [[5,6],\n",
    "             [7,8]]])\n",
    "print(arr3)\n",
    "print(f\"배열의 모양(크기):{arr3.shape}\")\n",
    "print(f\"배열의 차원 : {arr3.ndim}\")\n",
    "print(f\"배열의 요소개수 : {arr3.size}\")"
   ]
  },
  {
   "cell_type": "markdown",
   "id": "a478211d-d2be-4e82-a7fe-9853c39d4d39",
   "metadata": {},
   "source": [
    "#### 2.1 dtype 및 shape 변경"
   ]
  },
  {
   "cell_type": "code",
   "execution_count": 12,
   "id": "d634e2d1-68e5-4f5b-aa94-f043e265ce05",
   "metadata": {},
   "outputs": [
    {
     "name": "stdout",
     "output_type": "stream",
     "text": [
      "[[1.7 4.2 3.6]\n",
      " [4.1 2.9 5.8]]\n",
      "float64\n",
      "\n",
      "[[1 4 3]\n",
      " [4 2 5]]\n",
      "int64\n"
     ]
    }
   ],
   "source": [
    "# 데이터 타입을 직접 지정해 배열 생성\n",
    "list3 = [[1.7,4.2,3.6], [4.1,2.9,5.8]]\n",
    "\n",
    "temp1 = np.array(list3)\n",
    "temp2 = np.array(list3, dtype=np.int64)\n",
    "\n",
    "print(temp1)\n",
    "print(temp1.dtype)\n",
    "print()\n",
    "print(temp2)\n",
    "print(temp2.dtype)\n"
   ]
  },
  {
   "cell_type": "code",
   "execution_count": 13,
   "id": "63a01371",
   "metadata": {},
   "outputs": [
    {
     "data": {
      "text/plain": [
       "dtype('float64')"
      ]
     },
     "execution_count": 13,
     "metadata": {},
     "output_type": "execute_result"
    }
   ],
   "source": [
    "# 만들어진 ndarray의 요소 자료형 변경!\n",
    "temp2=temp2.astype(np.float64) # 다시 담아줘야함\n",
    "temp2.dtype"
   ]
  },
  {
   "cell_type": "code",
   "execution_count": 14,
   "id": "e9ef738c",
   "metadata": {},
   "outputs": [
    {
     "data": {
      "text/plain": [
       "array([[1., 4., 3.],\n",
       "       [4., 2., 5.]])"
      ]
     },
     "execution_count": 14,
     "metadata": {},
     "output_type": "execute_result"
    }
   ],
   "source": [
    "temp2"
   ]
  },
  {
   "cell_type": "code",
   "execution_count": 15,
   "id": "57c7e0d7",
   "metadata": {},
   "outputs": [
    {
     "data": {
      "text/plain": [
       "array([[1., 4.],\n",
       "       [3., 4.],\n",
       "       [2., 5.]])"
      ]
     },
     "execution_count": 15,
     "metadata": {},
     "output_type": "execute_result"
    }
   ],
   "source": [
    "# 모양(크기) 바꿔주기\n",
    "# 2차원 경우 행과 열의 값이 맞게 떨어져야함\n",
    "temp2=temp2.reshape(3,2) # 다시 대입\n",
    "temp2"
   ]
  },
  {
   "cell_type": "markdown",
   "id": "2154069f",
   "metadata": {},
   "source": [
    "### 3. 특정한 값으로 ndarray 생성"
   ]
  },
  {
   "cell_type": "code",
   "execution_count": 16,
   "id": "5a22478a",
   "metadata": {},
   "outputs": [
    {
     "data": {
      "text/plain": [
       "array([[0., 0., 0., 0.],\n",
       "       [0., 0., 0., 0.],\n",
       "       [0., 0., 0., 0.]])"
      ]
     },
     "execution_count": 16,
     "metadata": {},
     "output_type": "execute_result"
    }
   ],
   "source": [
    "# 모든 값 0으로 초기화\n",
    "# np.zeros((행,열)) -> 2차원 이상의 모양인 경우 튜플로 감싸줘야함\n",
    "\n",
    "np.zeros((3,4))"
   ]
  },
  {
   "cell_type": "code",
   "execution_count": 17,
   "id": "eca55f52",
   "metadata": {},
   "outputs": [
    {
     "data": {
      "text/plain": [
       "array([[1., 1., 1., 1., 1.],\n",
       "       [1., 1., 1., 1., 1.],\n",
       "       [1., 1., 1., 1., 1.],\n",
       "       [1., 1., 1., 1., 1.],\n",
       "       [1., 1., 1., 1., 1.]])"
      ]
     },
     "execution_count": 17,
     "metadata": {},
     "output_type": "execute_result"
    }
   ],
   "source": [
    "# 모든 값 1로 초기화\n",
    "# np.ones((행,열)) -> 2차원 이상 모양인 경우 튜플로 감싸줘야함\n",
    "np.ones((5,5))"
   ]
  },
  {
   "cell_type": "code",
   "execution_count": 18,
   "id": "faf3b74f",
   "metadata": {},
   "outputs": [
    {
     "data": {
      "text/plain": [
       "array([[10, 10, 10, 10, 10],\n",
       "       [10, 10, 10, 10, 10],\n",
       "       [10, 10, 10, 10, 10],\n",
       "       [10, 10, 10, 10, 10],\n",
       "       [10, 10, 10, 10, 10]])"
      ]
     },
     "execution_count": 18,
     "metadata": {},
     "output_type": "execute_result"
    }
   ],
   "source": [
    "# 원하는 값으로 초기화(하나의 값만 적용)\n",
    "# np.full((행,열), 원하는 값)\n",
    "arr_full=np.full((5,5),10)\n",
    "arr_full"
   ]
  },
  {
   "cell_type": "code",
   "execution_count": 19,
   "id": "253bde3e",
   "metadata": {},
   "outputs": [
    {
     "data": {
      "text/plain": [
       "array([[1, 3],\n",
       "       [4, 5],\n",
       "       [8, 3]])"
      ]
     },
     "execution_count": 19,
     "metadata": {},
     "output_type": "execute_result"
    }
   ],
   "source": [
    "# 랜덤값으로 배열 생성\n",
    "# np.random.randint(시작값, 끝값, size(행,열))\n",
    "arr_randint=np.random.randint(1,10,size=(3,2))\n",
    "arr_randint"
   ]
  },
  {
   "attachments": {
    "image.png": {
     "image/png": "[encoded data removed]"
    }
   },
   "cell_type": "markdown",
   "id": "efe8ba6b",
   "metadata": {},
   "source": [
    "![image.png](attachment:image.png)"
   ]
  },
  {
   "cell_type": "code",
   "execution_count": 20,
   "id": "bd8827ad",
   "metadata": {},
   "outputs": [
    {
     "name": "stdout",
     "output_type": "stream",
     "text": [
      "[ 1  2  3  4  5  6  7  8  9 10 11 12 13 14 15 16 17 18 19 20 21 22 23 24\n",
      " 25 26 27 28 29 30 31 32 33 34 35 36 37 38 39 40 41 42 43 44 45 46 47 48\n",
      " 49 50]\n"
     ]
    }
   ],
   "source": [
    "# 1부터 50이 담긴 1차원 array 생성 ->리스트 활용\n",
    "list_num=[]\n",
    "for i in range(1,51):\n",
    "    list_num.append(i)\n",
    "\n",
    "print(np.array(list_num))"
   ]
  },
  {
   "cell_type": "code",
   "execution_count": 21,
   "id": "8d75551a",
   "metadata": {},
   "outputs": [
    {
     "data": {
      "text/plain": [
       "array([ 1,  2,  3,  4,  5,  6,  7,  8,  9, 10, 11, 12, 13, 14, 15, 16, 17,\n",
       "       18, 19, 20, 21, 22, 23, 24, 25, 26, 27, 28, 29, 30, 31, 32, 33, 34,\n",
       "       35, 36, 37, 38, 39, 40, 41, 42, 43, 44, 45, 46, 47, 48, 49, 50])"
      ]
     },
     "execution_count": 21,
     "metadata": {},
     "output_type": "execute_result"
    }
   ],
   "source": [
    "# list.append() 많이 쓰임\n",
    "#리스트 컴프리헨션(리스트 내포, List comprehension)\n",
    "list2 = [i for i in range(1,51)]\n",
    "np.array(list2)"
   ]
  },
  {
   "cell_type": "code",
   "execution_count": 22,
   "id": "7469ae9f",
   "metadata": {},
   "outputs": [
    {
     "name": "stdout",
     "output_type": "stream",
     "text": [
      "[ 1  2  3  4  5  6  7  8  9 10 11 12 13 14 15 16 17 18 19 20 21 22 23 24\n",
      " 25 26 27 28 29 30 31 32 33 34 35 36 37 38 39 40 41 42 43 44 45 46 47 48\n",
      " 49 50]\n"
     ]
    }
   ],
   "source": [
    "# gpt 코드\n",
    "arr_num = np.arange(1, 51)\n",
    "print(arr_num)"
   ]
  },
  {
   "cell_type": "markdown",
   "id": "4d08a356",
   "metadata": {},
   "source": [
    "### 4. ndarray 연산\n",
    "- 요소 별 연산에 특화"
   ]
  },
  {
   "cell_type": "code",
   "execution_count": 23,
   "id": "15f6d66f",
   "metadata": {},
   "outputs": [
    {
     "data": {
      "text/plain": [
       "[1, 2, 3, 4, 5, 6]"
      ]
     },
     "execution_count": 23,
     "metadata": {},
     "output_type": "execute_result"
    }
   ],
   "source": [
    "# list 연산 방식\n",
    "list1 = [1,2,3]\n",
    "list2 = [4,5,6]\n",
    "\n",
    "list1 + list2"
   ]
  },
  {
   "cell_type": "code",
   "execution_count": 24,
   "id": "30492f6d",
   "metadata": {},
   "outputs": [
    {
     "data": {
      "text/plain": [
       "array([5, 7, 9])"
      ]
     },
     "execution_count": 24,
     "metadata": {},
     "output_type": "execute_result"
    }
   ],
   "source": [
    "# ndarray 연산 방식\n",
    "arr1 = np.array(list1)\n",
    "arr2 = np.array(list2)\n",
    "\n",
    "# 요소별 연산\n",
    "arr1+arr2"
   ]
  },
  {
   "cell_type": "code",
   "execution_count": 25,
   "id": "a26d3acc",
   "metadata": {},
   "outputs": [
    {
     "name": "stdout",
     "output_type": "stream",
     "text": [
      "[[1 2 3]\n",
      " [4 5 6]]\n",
      "\n",
      "[[ 7  8  9]\n",
      " [10 11 12]]\n",
      "\n"
     ]
    },
    {
     "data": {
      "text/plain": [
       "array([[ 8, 10, 12],\n",
       "       [14, 16, 18]])"
      ]
     },
     "execution_count": 25,
     "metadata": {},
     "output_type": "execute_result"
    }
   ],
   "source": [
    "# 2차원 ndarray 연산\n",
    "arr_a = np.array([[1,2,3],[4,5,6]])\n",
    "arr_b = np.array([[7,8,9],[10,11,12]])\n",
    "\n",
    "print(arr_a, end='\\n\\n')\n",
    "print(arr_b, end='\\n\\n')\n",
    "\n",
    "arr_a + arr_b"
   ]
  },
  {
   "cell_type": "code",
   "execution_count": 26,
   "id": "aab04f63",
   "metadata": {},
   "outputs": [
    {
     "name": "stdout",
     "output_type": "stream",
     "text": [
      "[[1 2 3]\n",
      " [4 5 6]]\n",
      "\n",
      "[1 2 3]\n",
      "\n"
     ]
    },
    {
     "data": {
      "text/plain": [
       "array([[2, 4, 6],\n",
       "       [5, 7, 9]])"
      ]
     },
     "execution_count": 26,
     "metadata": {},
     "output_type": "execute_result"
    }
   ],
   "source": [
    "print(arr_a,end='\\n\\n')\n",
    "print(arr1,end='\\n\\n')\n",
    "#2차원 + 1차원\n",
    "arr_a + arr1"
   ]
  },
  {
   "cell_type": "code",
   "execution_count": 27,
   "id": "6e740731",
   "metadata": {},
   "outputs": [
    {
     "data": {
      "text/plain": [
       "array([[ 1,  4,  9],\n",
       "       [16, 25, 36]])"
      ]
     },
     "execution_count": 27,
     "metadata": {},
     "output_type": "execute_result"
    }
   ],
   "source": [
    "arr_a **2\n",
    "# 브로드 캐스팅: 차원의 수를 알아서 맞춰줌\n",
    "# 주의사항: 어느 정도 규칙이 존재(ex요소의 개수가 같아야함)"
   ]
  },
  {
   "cell_type": "markdown",
   "id": "198234f2",
   "metadata": {},
   "source": [
    "### 5.ndarray 인덱싱&슬라이싱\n",
    "- Indexing: 값을 가리키다 -> 자료 구조 내에서 \"1개의 요소\"에 접근하는 것\n",
    "- Slicing: 값을  잘라오다 -> 자료 구조 내에서 \"여러 개의 요소\"에 접근하는 것"
   ]
  },
  {
   "cell_type": "code",
   "execution_count": 28,
   "id": "6389bbfe",
   "metadata": {},
   "outputs": [
    {
     "data": {
      "text/plain": [
       "array([0, 1, 2, 3, 4, 5, 6, 7, 8, 9])"
      ]
     },
     "execution_count": 28,
     "metadata": {},
     "output_type": "execute_result"
    }
   ],
   "source": [
    "# 1차원 인덱싱\n",
    "arr1= np.arange(0,10)\n",
    "arr1"
   ]
  },
  {
   "cell_type": "code",
   "execution_count": 29,
   "id": "351022c3",
   "metadata": {},
   "outputs": [
    {
     "data": {
      "text/plain": [
       "2"
      ]
     },
     "execution_count": 29,
     "metadata": {},
     "output_type": "execute_result"
    }
   ],
   "source": [
    "arr1[2]"
   ]
  },
  {
   "cell_type": "code",
   "execution_count": 30,
   "id": "cc41eadd",
   "metadata": {},
   "outputs": [
    {
     "data": {
      "text/plain": [
       "array([3, 4, 5, 6, 7])"
      ]
     },
     "execution_count": 30,
     "metadata": {},
     "output_type": "execute_result"
    }
   ],
   "source": [
    "# 1차원 슬라이싱\n",
    "arr1[3:8]"
   ]
  },
  {
   "cell_type": "code",
   "execution_count": 31,
   "id": "6fb8fa07",
   "metadata": {},
   "outputs": [
    {
     "data": {
      "text/plain": [
       "[0, 1, 2, 10]"
      ]
     },
     "execution_count": 31,
     "metadata": {},
     "output_type": "execute_result"
    }
   ],
   "source": [
    "# 슬라이싱 이후 데이터 삽입\n",
    "\n",
    "# 리스트 : 슬라이싱하고 값을 넣으면 범위 자체가 하나의 요소로 반환\n",
    "list1 = [0,1,2,3,4,5,7,8,9]\n",
    "list1[3:]=[10]\n",
    "list1"
   ]
  },
  {
   "cell_type": "code",
   "execution_count": 32,
   "id": "10d82101",
   "metadata": {},
   "outputs": [
    {
     "data": {
      "text/plain": [
       "array([ 0,  1,  2, 10, 10, 10, 10, 10, 10, 10])"
      ]
     },
     "execution_count": 32,
     "metadata": {},
     "output_type": "execute_result"
    }
   ],
   "source": [
    "# array : 슬라이싱 된 요소들에 각각 하나씩 값을 넣는다!\n",
    "arr1=np.arange(0,10)\n",
    "arr1[3:]=10\n",
    "arr1"
   ]
  },
  {
   "cell_type": "code",
   "execution_count": 33,
   "id": "917bf434",
   "metadata": {},
   "outputs": [
    {
     "data": {
      "text/plain": [
       "array([[ 1,  2,  3,  4,  5,  6,  7,  8,  9, 10],\n",
       "       [11, 12, 13, 14, 15, 16, 17, 18, 19, 20],\n",
       "       [21, 22, 23, 24, 25, 26, 27, 28, 29, 30],\n",
       "       [31, 32, 33, 34, 35, 36, 37, 38, 39, 40],\n",
       "       [41, 42, 43, 44, 45, 46, 47, 48, 49, 50]])"
      ]
     },
     "execution_count": 33,
     "metadata": {},
     "output_type": "execute_result"
    }
   ],
   "source": [
    "# 2차원 array 인덱싱& 슬라이싱\n",
    "# 인덱싱 : [행값, 열값]\n",
    "# 슬라잉싱 : [행 시작값:행 끝값,열 시작값:열 끝값]\n",
    "\n",
    "arr2 = np.arange(1,51).reshape(5,10)\n",
    "arr2"
   ]
  },
  {
   "cell_type": "code",
   "execution_count": 34,
   "id": "1cb693a1",
   "metadata": {},
   "outputs": [
    {
     "data": {
      "text/plain": [
       "12"
      ]
     },
     "execution_count": 34,
     "metadata": {},
     "output_type": "execute_result"
    }
   ],
   "source": [
    "# 2차원 인덱싱 - 튜플인덱싱\n",
    "# 인덱싱 -> 기존 차원보다 낮은 차원의 요소 반환\n",
    "arr2[1,1]"
   ]
  },
  {
   "cell_type": "code",
   "execution_count": 35,
   "id": "c9ed8b73",
   "metadata": {},
   "outputs": [
    {
     "data": {
      "text/plain": [
       "12"
      ]
     },
     "execution_count": 35,
     "metadata": {},
     "output_type": "execute_result"
    }
   ],
   "source": [
    "# 2차원 인덱싱 - 일반인덱싱\n",
    "arr2[1][1]"
   ]
  },
  {
   "cell_type": "code",
   "execution_count": 36,
   "id": "c832dc91",
   "metadata": {},
   "outputs": [
    {
     "data": {
      "text/plain": [
       "array([[21, 22, 23, 24, 25, 26, 27, 28, 29],\n",
       "       [31, 32, 33, 34, 35, 36, 37, 38, 39],\n",
       "       [41, 42, 43, 44, 45, 46, 47, 48, 49]])"
      ]
     },
     "execution_count": 36,
     "metadata": {},
     "output_type": "execute_result"
    }
   ],
   "source": [
    "# 2차원 슬라이싱\n",
    "#슬라이싱 -> 동일한 차원을 반환\n",
    "arr2[2:5,0:9]"
   ]
  },
  {
   "attachments": {
    "image.png": {
     "image/png": "[encoded data removed]"
    }
   },
   "cell_type": "markdown",
   "id": "716dc1b6",
   "metadata": {},
   "source": [
    "#### 실습\n",
    "![image.png](attachment:image.png)"
   ]
  },
  {
   "cell_type": "code",
   "execution_count": 37,
   "id": "afff6ab0",
   "metadata": {},
   "outputs": [
    {
     "name": "stdout",
     "output_type": "stream",
     "text": [
      "[[ 1  2  3  4  5  6  7  8  9 10]\n",
      " [11 12 13 14 15 16 17 18 19 20]]\n",
      "\n",
      "[ 1 11 21 31 41]\n",
      "\n",
      "[[ 1  2  3  4  5]\n",
      " [11 12 13 14 15]\n",
      " [21 22 23 24 25]\n",
      " [31 32 33 34 35]]\n"
     ]
    }
   ],
   "source": [
    "# 생성해서 만듬 ㅠㅠ\n",
    "arr1= np.arange(1,21).reshape(2,10)\n",
    "print(arr1)\n",
    "print()\n",
    "\n",
    "arr2= np.arange(1,42,10)\n",
    "print(arr2)\n",
    "print()\n",
    "\n",
    "arr3=np.arange(1,41).reshape(4,10)\n",
    "print(arr3[0:5,0:5])"
   ]
  },
  {
   "cell_type": "code",
   "execution_count": 38,
   "id": "b152d20b",
   "metadata": {},
   "outputs": [
    {
     "name": "stdout",
     "output_type": "stream",
     "text": [
      "[[ 1  2  3  4  5  6  7  8  9 10]\n",
      " [11 12 13 14 15 16 17 18 19 20]\n",
      " [21 22 23 24 25 26 27 28 29 30]\n",
      " [31 32 33 34 35 36 37 38 39 40]\n",
      " [41 42 43 44 45 46 47 48 49 50]]\n",
      "\n",
      "[[ 1  2  3  4  5  6  7  8  9 10]\n",
      " [11 12 13 14 15 16 17 18 19 20]]\n",
      "\n",
      "[ 1 11 21 31 41]\n",
      "\n",
      "[[ 1  2  3  4  5]\n",
      " [11 12 13 14 15]\n",
      " [21 22 23 24 25]\n",
      " [31 32 33 34 35]]\n"
     ]
    }
   ],
   "source": [
    "arr1=np.arange(1,51).reshape(5,10)\n",
    "print(arr1)\n",
    "\n",
    "print()\n",
    "print(arr1[0:2])\n",
    "\n",
    "print()\n",
    "print(arr1[:,0])\n",
    "\n",
    "\n",
    "print()\n",
    "print(arr1[0:4,0:5])"
   ]
  },
  {
   "cell_type": "code",
   "execution_count": 39,
   "id": "8a5ec281",
   "metadata": {},
   "outputs": [
    {
     "data": {
      "text/plain": [
       "array([23, 34])"
      ]
     },
     "execution_count": 39,
     "metadata": {},
     "output_type": "execute_result"
    }
   ],
   "source": [
    "# 여러 개의 요소 선택 - Fancy 인덱싱\n",
    "# [[행1, 행2],[열1, 열2...]]\n",
    "arr1[[2,3],[2,3]]"
   ]
  },
  {
   "attachments": {
    "image.png": {
     "image/png": "[encoded data removed]"
    }
   },
   "cell_type": "markdown",
   "id": "42e9d6ec",
   "metadata": {},
   "source": [
    "#### BMI지수 구하기\n",
    "![image.png](attachment:image.png)"
   ]
  },
  {
   "cell_type": "code",
   "execution_count": 40,
   "id": "35c88da6",
   "metadata": {},
   "outputs": [
    {
     "name": "stdout",
     "output_type": "stream",
     "text": [
      "<class 'numpy.ndarray'>\n",
      "float64\n",
      "(2, 10)\n"
     ]
    }
   ],
   "source": [
    "# 1. 데이터 읽어오기\n",
    "# loadtxt(\"경로 및 파일명\") : 읽어들일 파일을 ndarray 형태로 불러오는 도구\n",
    "# delimiter = '구분자' : 요소를 구분짓기 위한 구분자 지정\n",
    "data = np.loadtxt(\"./data/height_weight(p).txt\",delimiter=',')\n",
    "print(type(data))\n",
    "print(data.dtype)\n",
    "print(data.shape)"
   ]
  },
  {
   "cell_type": "code",
   "execution_count": 41,
   "id": "ef4fc6f3",
   "metadata": {},
   "outputs": [
    {
     "data": {
      "text/plain": [
       "array([[175.2   , 180.3   , 175.    , 169.2   , 185.2   , 188.    ,\n",
       "        177.6   , 178.2   , 177.    , 179.    ],\n",
       "       [144.5824, 193.952 , 174.5568, 152.7372, 121.22  , 156.9248,\n",
       "        160.892 , 151.8556, 163.096 , 180.728 ]])"
      ]
     },
     "execution_count": 41,
     "metadata": {},
     "output_type": "execute_result"
    }
   ],
   "source": [
    "# 0번째 행: 키\n",
    "# 1번째 행: 몸무게(pound)\n",
    "# kg =pound/2.204\n",
    "data"
   ]
  },
  {
   "cell_type": "code",
   "execution_count": 42,
   "id": "94b3cbb2",
   "metadata": {},
   "outputs": [
    {
     "name": "stdout",
     "output_type": "stream",
     "text": [
      "[175.2 180.3 175.  169.2 185.2 188.  177.6 178.2 177.  179. ]\n",
      "[144.5824 193.952  174.5568 152.7372 121.22   156.9248 160.892  151.8556\n",
      " 163.096  180.728 ]\n",
      "\n",
      "[65.6 88.  79.2 69.3 55.  71.2 73.  68.9 74.  82. ]\n",
      "[1.752 1.803 1.75  1.692 1.852 1.88  1.776 1.782 1.77  1.79 ]\n",
      "\n",
      "[21.37153104 27.07018468 25.86122449 24.20652885 16.03543423 20.14486193\n",
      " 23.14392095 21.69720651 23.62028791 25.59220998]\n"
     ]
    }
   ],
   "source": [
    "# 1. 키 데이터 가져오기\n",
    "# 2. 몸무게 데이터 가져오기\n",
    "\n",
    "print(data[0]) # 키\n",
    "print(data[1]) # 몸무게\n",
    "\n",
    "# 3. 단위 변경\n",
    "print()\n",
    "# pound=> kg \n",
    "kg=data[1]/2.204\n",
    "print(kg)\n",
    "# cm => m\n",
    "m=data[0]/100\n",
    "print(m)\n",
    "\n",
    "# 4. BMI 측정\n",
    "print()\n",
    "data_bmi=kg/(m*m)\n",
    "print(data_bmi)"
   ]
  },
  {
   "cell_type": "code",
   "execution_count": 60,
   "id": "3eb20f45",
   "metadata": {},
   "outputs": [
    {
     "data": {
      "text/plain": [
       "array([27.07018468, 25.86122449, 24.20652885, 23.14392095, 23.62028791,\n",
       "       25.59220998])"
      ]
     },
     "execution_count": 60,
     "metadata": {},
     "output_type": "execute_result"
    }
   ],
   "source": [
    "# 불리안 인덱싱 활용 -> 과체중(23~25)인 사람은 누구인가\n",
    "data_bmi[data_bmi >=23]"
   ]
  },
  {
   "cell_type": "code",
   "execution_count": 62,
   "id": "76c84c20",
   "metadata": {},
   "outputs": [
    {
     "data": {
      "text/plain": [
       "array([21.37153104, 24.20652885, 16.03543423, 20.14486193, 23.14392095,\n",
       "       21.69720651, 23.62028791])"
      ]
     },
     "execution_count": 62,
     "metadata": {},
     "output_type": "execute_result"
    }
   ],
   "source": [
    "data_bmi[data_bmi<=25]"
   ]
  },
  {
   "cell_type": "code",
   "execution_count": 64,
   "id": "b06cb770",
   "metadata": {},
   "outputs": [
    {
     "data": {
      "text/plain": [
       "array([24.20652885, 23.14392095, 23.62028791])"
      ]
     },
     "execution_count": 64,
     "metadata": {},
     "output_type": "execute_result"
    }
   ],
   "source": [
    "# 다중 불리안 인덱싱 -> 비트 연산자\n",
    "# and, or : 논리연산자(단일값 연산 시 활용)\n",
    "# &, | : 비트연산자(다중값, ex.ndarray 연산 시 활용)\n",
    "\n",
    "data_bmi >=23, data_bmi<=25\n",
    "data_bmi[(data_bmi >=23)&(data_bmi<=25)]"
   ]
  },
  {
   "cell_type": "markdown",
   "id": "1ad6794e",
   "metadata": {},
   "source": [
    "### 6. NumPy 수학적 함수"
   ]
  },
  {
   "cell_type": "code",
   "execution_count": 46,
   "id": "36cf8d4f",
   "metadata": {},
   "outputs": [
    {
     "data": {
      "text/plain": [
       "array([[1, 6, 5, 7, 9],\n",
       "       [3, 2, 3, 4, 8]])"
      ]
     },
     "execution_count": 46,
     "metadata": {},
     "output_type": "execute_result"
    }
   ],
   "source": [
    "# 랜덤 array 생성\n",
    "arr=np.random.randint(1,10,size=(2,5))\n",
    "arr"
   ]
  },
  {
   "cell_type": "code",
   "execution_count": 48,
   "id": "e4a05c27",
   "metadata": {},
   "outputs": [
    {
     "name": "stdout",
     "output_type": "stream",
     "text": [
      "48\n",
      "48\n"
     ]
    }
   ],
   "source": [
    "# sum() : 합계\n",
    "print(arr.sum())\n",
    "print(np.sum(arr))"
   ]
  },
  {
   "cell_type": "code",
   "execution_count": 49,
   "id": "f4501b2f",
   "metadata": {},
   "outputs": [
    {
     "name": "stdout",
     "output_type": "stream",
     "text": [
      "4.8\n",
      "4.8\n"
     ]
    }
   ],
   "source": [
    "# mean(): 평균\n",
    "print(arr.mean())\n",
    "print(np.mean(arr))"
   ]
  },
  {
   "cell_type": "code",
   "execution_count": 50,
   "id": "b0343908",
   "metadata": {},
   "outputs": [
    {
     "data": {
      "text/plain": [
       "array([[1.        , 2.44948974, 2.23606798, 2.64575131, 3.        ],\n",
       "       [1.73205081, 1.41421356, 1.73205081, 2.        , 2.82842712]])"
      ]
     },
     "execution_count": 50,
     "metadata": {},
     "output_type": "execute_result"
    }
   ],
   "source": [
    "# sqrt(): 제곱근\n",
    "np.sqrt(arr)"
   ]
  },
  {
   "cell_type": "code",
   "execution_count": 52,
   "id": "e96aa9ff",
   "metadata": {},
   "outputs": [
    {
     "name": "stdout",
     "output_type": "stream",
     "text": [
      "[-1 -2 -3 -4 -5]\n"
     ]
    },
    {
     "data": {
      "text/plain": [
       "array([1, 2, 3, 4, 5])"
      ]
     },
     "execution_count": 52,
     "metadata": {},
     "output_type": "execute_result"
    }
   ],
   "source": [
    "# abs() : 절댓값\n",
    "arr = np.array([-1,-2,-3,-4,-5])\n",
    "print(arr)\n",
    "np.abs(arr)"
   ]
  },
  {
   "cell_type": "markdown",
   "id": "7e17cecd",
   "metadata": {},
   "source": [
    "| 함수명 | 설명 | 인자 |\n",
    "|--------|------|------|\n",
    "| `np.add(x1, x2)` | 두 배열을 요소별로 더합니다. | `x1`, `x2`: 더할 배열 |\n",
    "| `np.subtract(x1, x2)` | 첫 번째 배열에서 두 번째 배열의 요소를 요소별로 뺍니다. | `x1`, `x2`: 뺄셈을 할 배열 |\n",
    "| `np.multiply(x1, x2)` | 두 배열의 요소별 곱을 계산합니다. | `x1`, `x2`: 곱할 배열 |\n",
    "| `np.divide(x1, x2)` | 첫 번째 배열을 두 번째 배열로 요소별로 나눕니다. | `x1`, `x2`: 나눗셈을 할 배열 |\n",
    "| `np.sqrt(x)` | 배열의 각 요소에 대해 제곱근을 계산합니다. | `x`: 제곱근을 구할 배열 |\n",
    "| `np.sin(x)` | 배열의 각 요소에 대해 사인 함수 값을 계산합니다. | `x`: 사인 값을 구할 배열 |\n",
    "| `np.cos(x)` | 배열의 각 요소에 대해 코사인 함수 값을 계산합니다. | `x`: 코사인 값을 구할 배열 |\n",
    "| `np.tan(x)` | 배열의 각 요소에 대해 탄젠트 함수 값을 계산합니다. | `x`: 탄젠트 값을 구할 배열 |\n",
    "| `np.log(x)` | 배열의 각 요소에 대해 자연 로그 값을 계산합니다. | `x`: 로그 값을 구할 배열 |\n",
    "| `np.exp(x)` | 배열의 각 요소에 대해 지수 함수 값을 계산합니다. | `x`: 지수 값을 구할 배열 |\n",
    "| `np.power(x1, x2)` | 첫 번째 배열의 요소를 두 번째 배열의 해당 요소만큼 거듭제곱합니다. | `x1`, `x2`: 거듭제곱을 할 배열 |\n",
    "| `np.mod(x1, x2)` | 첫 번째 배열의 요소를 두 번째 배열의 요소로 나눈 나머지를 계산합니다. | `x1`, `x2`: 나머지 연산을 할 배열 |"
   ]
  },
  {
   "cell_type": "markdown",
   "id": "978f45f2",
   "metadata": {},
   "source": [
    "### 7. Boolean 인덱싱\n",
    "- 배열 안에서 조건을 충족하는 True인 값들만 추출해주는 인덱싱\n",
    "- 필터링"
   ]
  },
  {
   "cell_type": "code",
   "execution_count": 53,
   "id": "37e7874d",
   "metadata": {},
   "outputs": [
    {
     "data": {
      "text/plain": [
       "array([80, 75, 55, 96, 30])"
      ]
     },
     "execution_count": 53,
     "metadata": {},
     "output_type": "execute_result"
    }
   ],
   "source": [
    "score = np.array([80,75,55,96,30])\n",
    "score"
   ]
  },
  {
   "cell_type": "code",
   "execution_count": 55,
   "id": "429d8513",
   "metadata": {},
   "outputs": [
    {
     "data": {
      "text/plain": [
       "array([ True,  True, False,  True, False])"
      ]
     },
     "execution_count": 55,
     "metadata": {},
     "output_type": "execute_result"
    }
   ],
   "source": [
    "# 1. mask(필터) 만들기\n",
    "mask= score >=60\n",
    "mask"
   ]
  },
  {
   "cell_type": "code",
   "execution_count": 56,
   "id": "2817ab62",
   "metadata": {},
   "outputs": [
    {
     "data": {
      "text/plain": [
       "array([80, 75, 96])"
      ]
     },
     "execution_count": 56,
     "metadata": {},
     "output_type": "execute_result"
    }
   ],
   "source": [
    "# 2. mask 를 재료로 인덱싱\n",
    "score[mask]"
   ]
  },
  {
   "cell_type": "markdown",
   "id": "e2a64a15",
   "metadata": {},
   "source": [
    "### 실습! 영화데이터 분석\n",
    "- 각각의 사용자가 매긴 평점의 평균 평점중 4점 이상인 평점만 구해서 파일로 저장"
   ]
  },
  {
   "cell_type": "code",
   "execution_count": 68,
   "id": "994cd78d",
   "metadata": {},
   "outputs": [
    {
     "data": {
      "text/plain": [
       "array([[        1,      1193,         5, 978300760],\n",
       "       [        1,       661,         3, 978302109],\n",
       "       [        1,       914,         3, 978301968],\n",
       "       ...,\n",
       "       [     6040,       562,         5, 956704746],\n",
       "       [     6040,      1096,         4, 956715648],\n",
       "       [     6040,      1097,         4, 956715569]], dtype=int64)"
      ]
     },
     "execution_count": 68,
     "metadata": {},
     "output_type": "execute_result"
    }
   ],
   "source": [
    "movie=np.loadtxt(\"./data/new_ratings.dat\",delimiter='|', dtype=np.int64)\n",
    "movie"
   ]
  },
  {
   "cell_type": "markdown",
   "id": "598a96dd",
   "metadata": {},
   "source": [
    "| 사용자 ID | 영화 ID | 영화평점 | 입력시간(타임스태프)|\n",
    "|---|---|---|---|\n",
    "|1|1193|5|978300760|\n",
    "|1|661|3|978302109|"
   ]
  },
  {
   "cell_type": "code",
   "execution_count": 71,
   "id": "4896cfa9",
   "metadata": {},
   "outputs": [
    {
     "name": "stdout",
     "output_type": "stream",
     "text": [
      "배열의 모양: (1000209, 4)\n",
      "배열의 요소 총 개수: 4000836\n",
      "배열의 차원 수 : 2\n"
     ]
    }
   ],
   "source": [
    "# 데이터 속성확인\n",
    "print(f\"배열의 모양: {movie.shape}\")\n",
    "print(f\"배열의 요소 총 개수: {movie.size}\")\n",
    "print(f\"배열의 차원 수 : {movie.ndim}\")"
   ]
  },
  {
   "cell_type": "code",
   "execution_count": 76,
   "id": "e39e4f24",
   "metadata": {},
   "outputs": [
    {
     "data": {
      "text/plain": [
       "array([5, 3, 3, ..., 5, 4, 4], dtype=int64)"
      ]
     },
     "execution_count": 76,
     "metadata": {},
     "output_type": "execute_result"
    }
   ],
   "source": [
    "# 전체 영화의 평점\n",
    "avg=movie[:,2]\n",
    "avg"
   ]
  },
  {
   "cell_type": "code",
   "execution_count": 77,
   "id": "cb4a3958",
   "metadata": {},
   "outputs": [
    {
     "data": {
      "text/plain": [
       "3.58"
      ]
     },
     "execution_count": 77,
     "metadata": {},
     "output_type": "execute_result"
    }
   ],
   "source": [
    "# 전체 영화의 평점 평균\n",
    "avg.mean().round(2)"
   ]
  }
 ],
 "metadata": {
  "kernelspec": {
   "display_name": "Python 3 (ipykernel)",
   "language": "python",
   "name": "python3"
  },
  "language_info": {
   "codemirror_mode": {
    "name": "ipython",
    "version": 3
   },
   "file_extension": ".py",
   "mimetype": "text/x-python",
   "name": "python",
   "nbconvert_exporter": "python",
   "pygments_lexer": "ipython3",
   "version": "3.11.7"
  }
 },
 "nbformat": 4,
 "nbformat_minor": 5
}
